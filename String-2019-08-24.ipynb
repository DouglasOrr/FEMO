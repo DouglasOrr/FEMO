{
 "cells": [
  {
   "cell_type": "code",
   "execution_count": null,
   "metadata": {},
   "outputs": [],
   "source": [
    "%matplotlib inline\n",
    "import numpy as np\n",
    "import matplotlib.pyplot as plt\n",
    "import seaborn as sns\n",
    "import soundfile as sf"
   ]
  },
  {
   "cell_type": "markdown",
   "metadata": {},
   "source": [
    "Wave equation:\n",
    "$$\n",
    "\\frac{\\partial^2 u}{\\partial t^2} = c^2 \\frac{\\partial^2 u}{\\partial x^2}\n",
    "$$\n",
    "\n",
    "Finite difference method:\n",
    "$$\n",
    "\\frac{\\partial^2 a}{\\partial z^2} = \\frac{a_{i+1} - 2 a_i + a_{i-1}}{(\\Delta z)^2}\n",
    "$$\n",
    "\n",
    "FDM (explicit) applied to wave equation:\n",
    "\n",
    "$$\n",
    "\\frac{u^{i+1}_j - 2 u^i_j + u^{i-1}_j}{(\\Delta t)^2} = c^2 \\frac{u^i_{j+1} - 2 u^i_j + u^i_{j-1}}{(\\Delta x)^2} \\\\\n",
    "u^{i+1}_j = 2 u^i_j - u^{i-1}_j + \\left(\\frac{c \\Delta t}{\\Delta x}\\right)^2 ( u^i_{j+1} - 2 u^i_j + u^i_{j-1} )\n",
    "$$\n",
    "\n",
    "Add damping:\n",
    "$$\n",
    "\\frac{\\partial^2 u}{\\partial t^2} + \\lambda c \\frac{\\partial u}{\\partial t} = c^2 \\frac{\\partial^2 u}{\\partial x^2} \\\\\n",
    "\\frac{u^{i+1}_j - 2 u^i_j + u^{i-1}_j}{(\\Delta t)^2} + \\lambda c \\frac{u^i_j - u^{i-1}_j}{\\Delta t} = c^2 \\frac{u^i_{j+1} - 2 u^i_j + u^i_{j-1}}{(\\Delta x)^2} \\\\\n",
    "u^{i+1}_j = (2 - \\lambda c \\Delta t)\\, u^i_j - (1 - \\lambda c \\Delta t)\\, u^{i-1}_j + \\left(\\frac{c \\Delta t}{\\Delta x}\\right)^2 ( u^i_{j+1} - 2 u^i_j + u^i_{j-1} )\n",
    "$$\n"
   ]
  },
  {
   "cell_type": "code",
   "execution_count": null,
   "metadata": {},
   "outputs": [],
   "source": [
    "delta_t = 44000**-1  # s\n",
    "delta_x = .01  # m\n",
    "# wave_speed = wave_length * freq\n",
    "wave_speed = 220  # ms^-1\n",
    "string_length = 0.5  # m\n",
    "decay = 0.05"
   ]
  },
  {
   "cell_type": "code",
   "execution_count": null,
   "metadata": {},
   "outputs": [],
   "source": [
    "xs = delta_x * np.arange(int(string_length / delta_x))\n",
    "\n",
    "# start = np.sin(np.pi * xs / np.max(xs))\n",
    "loc = .1 ; start = np.where(xs < loc, (xs / loc), (np.max(xs) - xs) / (np.max(xs) - loc))  # triangle\n",
    "# start = (xs == xs[len(xs) // 2]).astype(np.float)  # delta function\n",
    "\n",
    "displacements = [start, start]\n",
    "for _ in range(int(delta_t ** -1)):\n",
    "    d_1 = displacements[-2]\n",
    "    d = displacements[-1]\n",
    "    displacements.append(np.pad((2 - decay * wave_speed * delta_t) * d[1:-1]\n",
    "                                - (1 - decay * wave_speed * delta_t) * d_1[1:-1]\n",
    "                                + (wave_speed * delta_t / delta_x)**2 * (d[2:] - 2 * d[1:-1] + d[:-2]), 1))\n",
    "\n",
    "plt.figure(figsize=(12, 4))\n",
    "plt.plot(xs, np.zeros_like(xs), color='b')\n",
    "plt.plot(xs, start, color='r')\n",
    "for d in displacements[2::100][:100]:\n",
    "    plt.plot(xs, d, color='k', alpha=.1)\n",
    "\n",
    "d0 = np.stack(displacements)[:, 1]\n",
    "ts = delta_t * np.arange(len(d0))\n",
    "plt.figure(figsize=(12, 4))\n",
    "plt.plot(ts, d0)\n",
    "plt.figure(figsize=(12, 4))\n",
    "plt.plot(ts, d0)\n",
    "plt.xlim((0, .05))"
   ]
  },
  {
   "cell_type": "code",
   "execution_count": null,
   "metadata": {},
   "outputs": [],
   "source": [
    "# !pip install soundfile\n",
    "sf.write('tri.1.wav', d0, int(delta_t**-1))"
   ]
  },
  {
   "cell_type": "code",
   "execution_count": null,
   "metadata": {},
   "outputs": [],
   "source": [
    "from IPython.display import display, Audio, HTML\n",
    "for f in ['sine.wav', 'tri.1.wav', 'tri.2.wav', 'delta.wav']:\n",
    "    display(HTML(f'<b>{f}</b>'))\n",
    "    display(Audio(f))\n",
    "# display(Audio('tri.2.wav'))"
   ]
  }
 ],
 "metadata": {
  "kernelspec": {
   "display_name": "Python 3",
   "language": "python",
   "name": "python3"
  },
  "language_info": {
   "codemirror_mode": {
    "name": "ipython",
    "version": 3
   },
   "file_extension": ".py",
   "mimetype": "text/x-python",
   "name": "python",
   "nbconvert_exporter": "python",
   "pygments_lexer": "ipython3",
   "version": "3.7.3"
  }
 },
 "nbformat": 4,
 "nbformat_minor": 4
}
